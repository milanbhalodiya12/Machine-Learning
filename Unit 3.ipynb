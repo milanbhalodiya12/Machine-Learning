{
 "cells": [
  {
   "cell_type": "code",
   "execution_count": 11,
   "id": "a7d2eba7",
   "metadata": {},
   "outputs": [
    {
     "name": "stdout",
     "output_type": "stream",
     "text": [
      "[[-1.          0.66666667]\n",
      " [ 3.         -0.33333333]\n",
      " [-2.         -0.33333333]]\n",
      "[[-0.46291005  1.41421356]\n",
      " [ 1.38873015 -0.70710678]\n",
      " [-0.9258201  -0.70710678]]\n",
      "[0.00000000e+00 5.92118946e-16]\n",
      "[0.00000000e+00 2.96059473e-16]\n"
     ]
    }
   ],
   "source": [
    "import numpy as np\n",
    "from sklearn import preprocessing \n",
    "\n",
    "data = np.array([[3,5],[7,4],[2,4]])\n",
    "# print(data)\n",
    "\n",
    "#mean average\n",
    "\n",
    "mean_value= data.mean(axis=0)\n",
    "# print(mean_value)\n",
    "\n",
    "#Standard Deviation\n",
    "\n",
    "std = data.std(axis=0)\n",
    "# print(std)\n",
    "\n",
    "# Mean Removal\n",
    "\n",
    "final_val = data - mean_value\n",
    "print(final_val)\n",
    "# print(final_val.mean(axis=0))\n",
    "# print(final_val.std(axis=0))\n",
    "\n",
    "# Scale\n",
    "final = preprocessing.scale(data)\n",
    "print(final)\n",
    "print(final.mean(axis=0))\n",
    "print(final_val.mean(axis=0))\n"
   ]
  },
  {
   "cell_type": "code",
   "execution_count": null,
   "id": "e5cc7f0b",
   "metadata": {},
   "outputs": [],
   "source": []
  }
 ],
 "metadata": {
  "kernelspec": {
   "display_name": "Python 3 (ipykernel)",
   "language": "python",
   "name": "python3"
  },
  "language_info": {
   "codemirror_mode": {
    "name": "ipython",
    "version": 3
   },
   "file_extension": ".py",
   "mimetype": "text/x-python",
   "name": "python",
   "nbconvert_exporter": "python",
   "pygments_lexer": "ipython3",
   "version": "3.9.6"
  }
 },
 "nbformat": 4,
 "nbformat_minor": 5
}
