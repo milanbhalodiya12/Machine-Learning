{
 "cells": [
  {
   "cell_type": "code",
   "execution_count": 1,
   "id": "a7d2eba7",
   "metadata": {},
   "outputs": [
    {
     "name": "stdout",
     "output_type": "stream",
     "text": [
      "[[-1.          0.66666667]\n",
      " [ 3.         -0.33333333]\n",
      " [-2.         -0.33333333]]\n",
      "[[-0.46291005  1.41421356]\n",
      " [ 1.38873015 -0.70710678]\n",
      " [-0.9258201  -0.70710678]]\n",
      "[0.00000000e+00 5.92118946e-16]\n",
      "[0.00000000e+00 2.96059473e-16]\n"
     ]
    }
   ],
   "source": [
    "import numpy as np\n",
    "from sklearn import preprocessing \n",
    "\n",
    "data = np.array([[3,5],[7,4],[2,4]])\n",
    "# print(data)\n",
    "\n",
    "#mean average\n",
    "\n",
    "mean_value= data.mean(axis=0)\n",
    "# print(mean_value)\n",
    "\n",
    "#Standard Deviation\n",
    "\n",
    "std = data.std(axis=0)\n",
    "# print(std)\n",
    "\n",
    "# Mean Removal\n",
    "\n",
    "final_val = data - mean_value\n",
    "print(final_val)\n",
    "# print(final_val.mean(axis=0))\n",
    "# print(final_val.std(axis=0))\n",
    "\n",
    "# Scale\n",
    "final = preprocessing.scale(data)\n",
    "print(final)\n",
    "print(final.mean(axis=0))\n",
    "print(final_val.mean(axis=0))\n"
   ]
  },
  {
   "cell_type": "code",
   "execution_count": 13,
   "id": "e5cc7f0b",
   "metadata": {},
   "outputs": [
    {
     "name": "stdout",
     "output_type": "stream",
     "text": [
      "   Year   Person    Male  Female\n",
      "0   1951    18.33  27.15    8.58\n",
      "1   1961    25.65  40.26   15.35\n",
      "2   1971    26.95  45.96   21.97\n",
      "3   1981    28.56  56.38   29.73\n",
      "4   1991    30.24  64.13   39.23\n",
      "5   2001    33.52  75.14   53.25\n",
      "\n",
      "\n",
      "   Person    Male  Female\n",
      "0    18.33  27.15    8.58\n",
      "1    25.65  40.26   15.35\n",
      "2    26.95  45.96   21.97\n",
      "3    28.56  56.38   29.73\n",
      "4    30.24  64.13   39.23\n",
      "5    33.52  75.14   53.25\n",
      "\n",
      "\n",
      "Person     27.208333\n",
      "Male       51.503333\n",
      "Female     28.018333\n",
      "dtype: float64\n",
      "Person      5.141499\n",
      "Male       17.275026\n",
      "Female     16.371842\n",
      "dtype: float64\n",
      "\n",
      "\n",
      "[1.11022302e-16 1.85037171e-16 1.11022302e-16]\n",
      "[1. 1. 1.]\n",
      "\n",
      "\n",
      "[[0.         0.         0.        ]\n",
      " [0.48189598 0.27318191 0.15155585]\n",
      " [0.5674786  0.39195666 0.29975375]\n",
      " [0.67346939 0.60908523 0.47347213]\n",
      " [0.78406847 0.7705772  0.68614283]\n",
      " [1.         1.         1.        ]]\n"
     ]
    }
   ],
   "source": [
    "import pandas as pd\n",
    "\n",
    "df = pd.read_csv(\"new.csv\")\n",
    "print(df)\n",
    "print(\"\\n\")\n",
    "data = df[['Person ','Male','Female']]\n",
    "print(data)\n",
    "print(\"\\n\")\n",
    "\n",
    "print(data.mean(axis=0))\n",
    "print(data.std(axis=0))\n",
    "print(\"\\n\")\n",
    "\n",
    "\n",
    "mean_remove = preprocessing.scale(data)\n",
    "print(mean_remove.mean(axis=0))\n",
    "print(mean_remove.std(axis=0))\n",
    "\n",
    "print(\"\\n\")\n",
    "\n",
    "\n",
    "# Scalling data in CSV file\n",
    "data = df[['Person ','Male','Female']]\n",
    "scaller_model = preprocessing.MinMaxScaler()\n",
    "op = scaller_model.fit_transform(data)\n",
    "print(op)"
   ]
  },
  {
   "cell_type": "code",
   "execution_count": 11,
   "id": "b2f315aa",
   "metadata": {},
   "outputs": [
    {
     "name": "stdout",
     "output_type": "stream",
     "text": [
      "[[0.2 1. ]\n",
      " [1.  0. ]\n",
      " [0.  0. ]]\n"
     ]
    }
   ],
   "source": [
    "data = np.array([[3,5],[7,4],[2,4]])\n",
    "\n",
    "# Define a Scaller Model for data scalling\n",
    "scaller_model = preprocessing.MinMaxScaler()\n",
    "\n",
    "# Apply Fit Method to data\n",
    "op1 = scaller_model.fit(data)\n",
    "# print(op1)\n",
    "\n",
    "\n",
    "# Apply Transform Method to data\n",
    " \n",
    "op2 = op1.transform(data)\n",
    "print(op2)\n"
   ]
  },
  {
   "cell_type": "code",
   "execution_count": 12,
   "id": "9df692ce",
   "metadata": {},
   "outputs": [
    {
     "name": "stdout",
     "output_type": "stream",
     "text": [
      "[[0.2 1. ]\n",
      " [1.  0. ]\n",
      " [0.  0. ]]\n"
     ]
    }
   ],
   "source": [
    "data = np.array([[3,5],[7,4],[2,4]])\n",
    "scaller_model = preprocessing.MinMaxScaler()\n",
    "op = scaller_model.fit_transform(data)\n",
    "print(op)"
   ]
  }
 ],
 "metadata": {
  "kernelspec": {
   "display_name": "Python 3 (ipykernel)",
   "language": "python",
   "name": "python3"
  },
  "language_info": {
   "codemirror_mode": {
    "name": "ipython",
    "version": 3
   },
   "file_extension": ".py",
   "mimetype": "text/x-python",
   "name": "python",
   "nbconvert_exporter": "python",
   "pygments_lexer": "ipython3",
   "version": "3.9.6"
  }
 },
 "nbformat": 4,
 "nbformat_minor": 5
}
