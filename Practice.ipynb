{
 "cells": [
  {
   "cell_type": "code",
   "execution_count": 32,
   "id": "135cfbdd",
   "metadata": {},
   "outputs": [
    {
     "name": "stdout",
     "output_type": "stream",
     "text": [
      "\n",
      "\n",
      "\n",
      "\n",
      "\n",
      "\n",
      "\n",
      "\n",
      "\n",
      "\n",
      "   ID    name  city     Contact Stream  Marks1  Marks2  Marks3  Marks4  \\\n",
      "7   8  Manish  Bhuj  9658745832  BTECH      63      25      52      28   \n",
      "\n",
      "   percentage  \n",
      "7        42.0  \n",
      "\n",
      "\n",
      "\n",
      "\n"
     ]
    }
   ],
   "source": [
    "import pandas as pd\n",
    "import numpy as np\n",
    "\n",
    "student = pd.read_csv(\"Student.csv\")\n",
    "\n",
    "#printing first 7 records\n",
    "# print(student.head(7))\n",
    "\n",
    "# #printing the column name\n",
    "# print(student.columns)\n",
    "\n",
    "# printing the statistical information of dataframe\n",
    "# print(student.describe())\n",
    "\n",
    "# printing all the records of dataframe in alphabetical orders\n",
    "# print(student.sort_values(by=['name']))\n",
    "\n",
    "# printing all the records of dataframe in a way that the students having highest marks display the first\n",
    "# print(student.sort_values(by=['Marks1','Marks2','Marks3','Marks4'], ascending=False))\n",
    "\n",
    "# Adding percentage column\n",
    "student['percentage'] = ((student['Marks1'] + student['Marks2'] + student['Marks3'] + student['Marks4']) / 400) * 100\n",
    "# print(student['percentage'])\n",
    "print(\"\\n\")\n",
    "\n",
    "# printing the details of students who lives in rajkot\n",
    "# print(student[student['city'] == 'Morbi'])\n",
    "print(\"\\n\")\n",
    "\n",
    "# printing the students who achieve the marks < 35\n",
    "# print(student[student['Marks1'] < 35])\n",
    "# print(student[student['Marks2'] < 35])\n",
    "# print(student[student['Marks3'] < 35])\n",
    "# print(student[student['Marks4'] < 35])\n",
    "\n",
    "print(\"\\n\")\n",
    "\n",
    "# printing the students whose name starts with 'M'\n",
    "# print(student[student['name'].str.startswith('M')])\n",
    "print(\"\\n\")\n",
    "\n",
    "\n",
    "# printing the student having maximum percentage\n",
    "# print(student[student['percentage'] == student['percentage'].max()])\n",
    "print(\"\\n\")\n",
    "\n",
    "# printing the student having minimum percentage\n",
    "# print(student[student['percentage'] == student['percentage'].min()])\n",
    "print(\"\\n\")\n",
    "\n",
    "# printing the students who study in BCA and MCA\n",
    "print(student[student['Stream'].isin(['BCA', 'MCA'])])\n",
    "print(\"\\n\")\n"
   ]
  },
  {
   "cell_type": "code",
   "execution_count": null,
   "id": "d70723ab",
   "metadata": {},
   "outputs": [],
   "source": []
  }
 ],
 "metadata": {
  "kernelspec": {
   "display_name": "Python 3 (ipykernel)",
   "language": "python",
   "name": "python3"
  },
  "language_info": {
   "codemirror_mode": {
    "name": "ipython",
    "version": 3
   },
   "file_extension": ".py",
   "mimetype": "text/x-python",
   "name": "python",
   "nbconvert_exporter": "python",
   "pygments_lexer": "ipython3",
   "version": "3.9.6"
  }
 },
 "nbformat": 4,
 "nbformat_minor": 5
}
